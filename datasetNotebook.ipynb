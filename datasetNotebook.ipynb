{
 "cells": [
  {
   "cell_type": "code",
   "execution_count": 1,
   "metadata": {},
   "outputs": [],
   "source": [
    "import requests\n",
    "import pandas as pd\n",
    "import io\n",
    "import os\n",
    "import time\n",
    "import warnings\n",
    "\n",
    "start = time.time()"
   ]
  },
  {
   "cell_type": "code",
   "execution_count": 9,
   "metadata": {},
   "outputs": [],
   "source": [
    "datasets = {\n",
    "    '1997' : 'conjunto_de_datos/atus_anual_1997.csv',\n",
    "    '1998' : 'conjunto_de_datos/atus_anual_1998.csv',\n",
    "    '1999' : 'conjunto_de_datos/atus_anual_1999.csv',\n",
    "    '2000' : 'conjunto_de_datos/atus_anual_2000.csv',\n",
    "    '2001' : 'conjunto_de_datos/atus_anual_2001.csv',\n",
    "    '2002' : 'conjunto_de_datos/atus_anual_2002.csv',\n",
    "    '2003' : 'conjunto_de_datos/atus_anual_2003.csv',\n",
    "    '2004' : 'conjunto_de_datos/atus_anual_2004.csv',\n",
    "    '2005' : 'conjunto_de_datos/atus_anual_2005.csv',\n",
    "    '2006' : 'conjunto_de_datos/atus_anual_2006.csv',\n",
    "    '2007' : 'conjunto_de_datos/atus_anual_2007.csv',\n",
    "    '2008' : 'conjunto_de_datos/atus_anual_2008.csv',\n",
    "    '2009' : 'conjunto_de_datos/atus_anual_2009.csv',\n",
    "    '2010' : 'conjunto_de_datos/atus_anual_2010.csv',\n",
    "    '2011' : 'conjunto_de_datos/atus_anual_2011.csv',\n",
    "    '2012' : 'conjunto_de_datos/atus_anual_2012.csv',\n",
    "    '2013' : 'conjunto_de_datos/atus_anual_2013.csv',\n",
    "    '2014' : 'conjunto_de_datos/atus_anual_2014.csv',\n",
    "    '2015' : 'conjunto_de_datos/atus_anual_2015.csv',\n",
    "    '2016' : 'conjunto_de_datos/atus_anual_2016.csv',\n",
    "    '2017' : 'conjunto_de_datos/atus_anual_2017.csv',\n",
    "    '2018' : 'conjunto_de_datos/atus_anual_2018.csv',\n",
    "    '2019' : 'conjunto_de_datos/atus_anual_2019.csv',\n",
    "    '2020' : 'conjunto_de_datos/atus_anual_2020.csv',\n",
    "    '2021' : 'conjunto_de_datos/atus_anual_2021.csv',\n",
    "    '2022' : 'conjunto_de_datos/atus_anual_2022.csv',\n",
    "}"
   ]
  },
  {
   "cell_type": "code",
   "execution_count": 11,
   "metadata": {},
   "outputs": [
    {
     "ename": "NameError",
     "evalue": "name 'files' is not defined",
     "output_type": "error",
     "traceback": [
      "\u001b[1;31m---------------------------------------------------------------------------\u001b[0m",
      "\u001b[1;31mNameError\u001b[0m                                 Traceback (most recent call last)",
      "Cell \u001b[1;32mIn[11], line 2\u001b[0m\n\u001b[0;32m      1\u001b[0m \u001b[38;5;28;01mfor\u001b[39;00m anio, url \u001b[38;5;129;01min\u001b[39;00m datasets\u001b[38;5;241m.\u001b[39mitems():\n\u001b[1;32m----> 2\u001b[0m     response \u001b[38;5;241m=\u001b[39m requests\u001b[38;5;241m.\u001b[39mget(\u001b[43mfiles\u001b[49m)\n\u001b[0;32m      3\u001b[0m     \u001b[38;5;28;01mif\u001b[39;00m response\u001b[38;5;241m.\u001b[39mstatus_code \u001b[38;5;241m==\u001b[39m \u001b[38;5;241m200\u001b[39m:\n\u001b[0;32m      4\u001b[0m         \u001b[38;5;66;03m# Leer el contenido del CSV en un DataFrame\u001b[39;00m\n\u001b[0;32m      5\u001b[0m         df \u001b[38;5;241m=\u001b[39m pd\u001b[38;5;241m.\u001b[39mread_csv(io\u001b[38;5;241m.\u001b[39mBytesIO(response\u001b[38;5;241m.\u001b[39mcontent), delimiter\u001b[38;5;241m=\u001b[39mdelimiter)\n",
      "\u001b[1;31mNameError\u001b[0m: name 'files' is not defined"
     ]
    }
   ],
   "source": [
    "for anio, url in datasets.items():\n",
    "    response = requests.get(files=)\n",
    "    if response.status_code == 200:\n",
    "        # Leer el contenido del CSV en un DataFrame\n",
    "        df = pd.read_csv(io.BytesIO(response.content), delimiter=delimiter)\n",
    "        # Asignar el DataFrame a una variable con el nombre df_{anio}\n",
    "        vars()[f'df_{anio}'] = df\n",
    "    else:\n",
    "        print(f'Error al descargar el dataset {anio}. Código de estado:', response.status_code)\n",
    "\n",
    "\n",
    "\n",
    "df = pd.read_csv('conjunto_de_datos/atus_anual_2022.csv')\n",
    "df"
   ]
  },
  {
   "cell_type": "code",
   "execution_count": null,
   "metadata": {},
   "outputs": [],
   "source": []
  }
 ],
 "metadata": {
  "kernelspec": {
   "display_name": "Python 3",
   "language": "python",
   "name": "python3"
  },
  "language_info": {
   "codemirror_mode": {
    "name": "ipython",
    "version": 3
   },
   "file_extension": ".py",
   "mimetype": "text/x-python",
   "name": "python",
   "nbconvert_exporter": "python",
   "pygments_lexer": "ipython3",
   "version": "3.11.4"
  }
 },
 "nbformat": 4,
 "nbformat_minor": 2
}
